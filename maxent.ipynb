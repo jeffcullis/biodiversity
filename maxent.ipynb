{
 "cells": [
  {
   "cell_type": "markdown",
   "metadata": {},
   "source": [
    "# MaxEnt Tutorial\n",
    "\n",
    "The aim here is to regenerate the results of the Java MaxEnt [tutorial](https://biodiversityinformatics.amnh.org/open_source/maxent/Maxent_tutorial2017.pdf) using phyloregion.\n",
    "\n",
    "The original tutorial uses the Java Maxent tool. There are a couple of different R packages that implement maxent. \n",
    "\n",
    "- [phyloregion](https://github.com/ropensci/phyloregion)\n",
    "- [dismo](https://github.com/rspatial/dismo)\n",
    "\n",
    "The phyloregion tool was a reimplementation in R, as described in a paper [here](https://besjournals.onlinelibrary.wiley.com/doi/pdfdirect/10.1111/2041-210X.13478). The dismo tool simply installs the Java version of Maxent and provides an R interface to it.\n",
    "\n",
    "The reimplementation paper notes significant speedup and efficiency over the Java version, so I will first try to work through the Java tutorial using the phyloregion tool.\n",
    "\n",
    "## Phyloregion Installation\n",
    "\n",
    "Phyloregion should be installed automatically in the dev container. See the `.devcontainer/install_jupyter_phyloregion.sh` shell script for the installation steps.\n",
    "\n",
    "## Tutorial Data\n",
    "\n",
    "- [Maxent Tutorial Data](https://biodiversityinformatics.amnh.org/open_source/maxent/tutorial-data.zip)\n",
    "\n",
    "```sh\n",
    "mkdir -p data\n",
    "mv ~/Downloads/tutorial-data.zip ./data/\n",
    "unzip data/tutorial-data.zip -d data/maxent_tutorial\n",
    "rm data/tutorial-data.zip\n",
    "```\n"
   ]
  }
 ],
 "metadata": {
  "language_info": {
   "name": "python"
  }
 },
 "nbformat": 4,
 "nbformat_minor": 2
}
