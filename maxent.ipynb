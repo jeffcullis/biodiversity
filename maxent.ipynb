{
 "cells": [
  {
   "cell_type": "markdown",
   "metadata": {},
   "source": [
    "# Maxent\n",
    "\n",
    "## Resources\n",
    "\n",
    "- [Maxent Software](https://biodiversityinformatics.amnh.org/open_source/maxent/)\n",
    "- [Maxent Tutorial](https://biodiversityinformatics.amnh.org/open_source/maxent/Maxent_tutorial2017.pdf)\n",
    "- [Maxent on GitHub](https://github.com/mrmaxent/Maxent)\n",
    "\n",
    "## Tutorial Notes\n",
    "\n",
    "The original tutorial uses the Java Maxent tool. There are a couple of different R packages that implement maxent. \n",
    "\n",
    "- [phyloregion](https://github.com/ropensci/phyloregion)\n",
    "- [dismo](https://github.com/rspatial/dismo)\n",
    "\n",
    "The phyloregion tool was a reimplementation in R, as described in a paper [here](https://besjournals.onlinelibrary.wiley.com/doi/pdfdirect/10.1111/2041-210X.13478). The dismo tool simply installs the Java version of Maxent and provides an R interface to it.\n",
    "\n",
    "The reimplementation paper notes significant speedup and efficiency over the Java version, so I will first try to work through the Java tutorial using the phyloregion tool.\n",
    "\n",
    "## Phyloregion Installation\n",
    "\n",
    "install.packages\n",
    "\n",
    "## Tutorial Data\n",
    "\n",
    "- [Maxent Tutorial Data](https://biodiversityinformatics.amnh.org/open_source/maxent/tutorial-data.zip)\n",
    "\n",
    "```sh\n",
    "mkdir -p data\n",
    "mv ~/Downloads/tutorial-data.zip ./data/\n",
    "unzip data/tutorial-data.zip -d data/maxent_tutorial\n",
    "rm data/tutorial-data.zip\n",
    "```\n"
   ]
  }
 ],
 "metadata": {
  "language_info": {
   "name": "python"
  }
 },
 "nbformat": 4,
 "nbformat_minor": 2
}
